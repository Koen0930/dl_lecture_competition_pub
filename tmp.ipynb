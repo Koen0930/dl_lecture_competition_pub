{
 "cells": [
  {
   "cell_type": "code",
   "execution_count": 1,
   "metadata": {},
   "outputs": [],
   "source": [
    "from root.src.datasets import ThingsMEGDataset\n",
    "val_set = ThingsMEGDataset(\"val\", \"root/data/\")"
   ]
  },
  {
   "cell_type": "code",
   "execution_count": 2,
   "metadata": {},
   "outputs": [
    {
     "name": "stdout",
     "output_type": "stream",
     "text": [
      "(tensor([[ 1.1822,  1.5110,  1.2753,  ...,  1.1311,  0.8987,  0.5738],\n",
      "        [ 1.2725,  1.6612,  1.3784,  ...,  0.5126,  0.7052,  0.8222],\n",
      "        [ 1.3913,  1.5214,  1.0235,  ...,  0.4755,  0.9952,  1.2356],\n",
      "        ...,\n",
      "        [-0.1785, -0.6209, -0.5861,  ..., -0.7110, -0.7847, -0.5340],\n",
      "        [-0.7676, -1.0085, -0.6537,  ..., -0.6599, -0.5256, -0.0541],\n",
      "        [-0.8375, -0.4029,  0.6546,  ..., -0.1342, -0.3249, -0.3224]]), tensor(1820), tensor(0))\n",
      "torch.Size([271, 244])\n"
     ]
    }
   ],
   "source": [
    "print(val_set[0])\n",
    "print(val_set[0][0].shape)"
   ]
  },
  {
   "cell_type": "code",
   "execution_count": 3,
   "metadata": {},
   "outputs": [
    {
     "name": "stdout",
     "output_type": "stream",
     "text": [
      "(tensor([[ 1.1822,  1.5110,  1.2753,  ...,  1.1311,  0.8987,  0.5738],\n",
      "        [ 1.2725,  1.6612,  1.3784,  ...,  0.5126,  0.7052,  0.8222],\n",
      "        [ 1.3913,  1.5214,  1.0235,  ...,  0.4755,  0.9952,  1.2356],\n",
      "        ...,\n",
      "        [-0.1785, -0.6209, -0.5861,  ..., -0.7110, -0.7847, -0.5340],\n",
      "        [-0.7676, -1.0085, -0.6537,  ..., -0.6599, -0.5256, -0.0541],\n",
      "        [-0.8375, -0.4029,  0.6546,  ..., -0.1342, -0.3249, -0.3224]]), tensor(1820), tensor(0))\n",
      "torch.float32\n"
     ]
    }
   ],
   "source": [
    "print(val_set[0])\n",
    "print(val_set[0][0].dtype)"
   ]
  },
  {
   "cell_type": "code",
   "execution_count": null,
   "metadata": {},
   "outputs": [],
   "source": []
  }
 ],
 "metadata": {
  "kernelspec": {
   "display_name": "Python 3",
   "language": "python",
   "name": "python3"
  },
  "language_info": {
   "codemirror_mode": {
    "name": "ipython",
    "version": 3
   },
   "file_extension": ".py",
   "mimetype": "text/x-python",
   "name": "python",
   "nbconvert_exporter": "python",
   "pygments_lexer": "ipython3",
   "version": "3.10.12"
  }
 },
 "nbformat": 4,
 "nbformat_minor": 2
}
